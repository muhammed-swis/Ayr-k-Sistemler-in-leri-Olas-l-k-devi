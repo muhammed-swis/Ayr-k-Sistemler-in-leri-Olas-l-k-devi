{
  "nbformat": 4,
  "nbformat_minor": 0,
  "metadata": {
    "colab": {
      "provenance": []
    },
    "kernelspec": {
      "name": "python3",
      "display_name": "Python 3"
    },
    "language_info": {
      "name": "python"
    }
  },
  "cells": [
    {
      "cell_type": "markdown",
      "source": [
        "**Problem 1** Bir şirkette toplam 15 çalışan bulunmaktadır. Bu çalışanların 6'sı mühendis, diğerleri ise farklı departmanlarda görev yapmaktadır. Şirket, bir önemli toplantı düzenlemek istiyor ve bu toplantı için bir masada 5 kişi oturacak. Toplantıda en az 2 mühendisin yer alması gerekiyor ve bu 5 kişi arasında şirket CEO'su da (CEO bir mühendis değil) bulunmalı. Toplantı masasındaki kişilerin oturma düzeni önemli olduğuna göre, bu şartları sağlayacak şekilde bu masada kaç farklı düzen oluşturulabilir?\n",
        "\n",
        "Bu problem hem **kombinasyon** hem de **permütasyon** gerektirir çünkü masadaki kişilerin sırası önemlidir.\n"
      ],
      "metadata": {
        "id": "VxxMd3ydluW9"
      }
    },
    {
      "cell_type": "code",
      "source": [
        "import math\n",
        "\n",
        "def kombinasyon(n, k):\n",
        "    return math.factorial(n) // (math.factorial(k) * math.factorial(n - k))\n",
        "\n",
        "def permütasyon(n, k):\n",
        "    return math.factorial(n) // math.factorial(n - k)\n",
        "\n",
        "# Çalışan sayıları\n",
        "toplam_calisan = 15\n",
        "muhendisler = 6\n",
        "diger_calisanlar = toplam_calisan - muhendisler - 1  # CEO hariç diğer çalışanlar\n",
        "\n",
        "# CEO dahil, en az 2 mühendis olacak şekilde 5 kişilik masada oturma düzeni\n",
        "min_muhendis = 2\n",
        "max_muhendis = min(5 - 1, muhendisler)  # 5 kişiden biri CEO olduğu için ve en fazla mevcut mühendis kadar\n",
        "\n",
        "toplam_duzen = 0\n",
        "for i in range(min_muhendis, max_muhendis + 1):\n",
        "    yollar_muhendis = kombinasyon(muhendisler, i)\n",
        "    yollar_diger = kombinasyon(diger_calisanlar, 4 - i)  # 5 kişi içinde 1'i CEO olduğu için\n",
        "    toplam_duzen += yollar_muhendis * yollar_diger * permütasyon(5, 5)\n",
        "\n",
        "print(f\"Toplantı masasında en az 2 mühendis ve CEO ile birlikte {toplam_duzen} farklı oturma düzeni oluşturulabilir.\")\n"
      ],
      "metadata": {
        "colab": {
          "base_uri": "https://localhost:8080/"
        },
        "id": "V_XJKXE8liK-",
        "outputId": "96905a9d-6e26-4456-947c-8daf47c3f194"
      },
      "execution_count": 1,
      "outputs": [
        {
          "output_type": "stream",
          "name": "stdout",
          "text": [
            "Toplantı masasında en az 2 mühendis ve CEO ile birlikte 71400 farklı oturma düzeni oluşturulabilir.\n"
          ]
        }
      ]
    },
    {
      "cell_type": "markdown",
      "source": [],
      "metadata": {
        "id": "p5yvl503ltz1"
      }
    }
  ]
}