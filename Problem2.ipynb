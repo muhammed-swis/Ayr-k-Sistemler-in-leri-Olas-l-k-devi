{
  "nbformat": 4,
  "nbformat_minor": 0,
  "metadata": {
    "colab": {
      "provenance": []
    },
    "kernelspec": {
      "name": "python3",
      "display_name": "Python 3"
    },
    "language_info": {
      "name": "python"
    }
  },
  "cells": [
    {
      "cell_type": "markdown",
      "source": [
        "**Problem 2**\n",
        "\n",
        "Bir teknoloji şirketinde 10 mühendis ve 15 diğer departman\n",
        "çalışanı olmak üzere toplam 25 çalışan bulunmaktadır. Şirketin kullanımına açık 8 toplantı odası vardır. Güvercin Yuvası İlkesine göre, bu odalardan en az birinde en az kaç çalışan bulunmalıdır? Ayrıca, mühendislerden ve diğer çalışanlardan oluşacak şekilde, her odada en az bir mühendis olacak şekilde en az kaç odada en az iki kişinin bulunması gerektiğini hesaplayalım.\n",
        "\n",
        "**Çözüm:** Öncelikle toplam çalışan sayısını odalara bölerek herhangi bir odada en az kaç kişinin bulunması gerektiğini bulalım. Daha sonra mühendis sayısını odalara bölerek, her odada en az bir mühendis olacak şekilde kaç odada en az iki kişinin olması gerektiğini bulalım."
      ],
      "metadata": {
        "id": "TSN1LLHanh7Y"
      }
    },
    {
      "cell_type": "code",
      "source": [
        "import math\n",
        "\n",
        "# Toplam çalışan, mühendis sayısı ve oda sayısı\n",
        "toplam_calisan = 25\n",
        "muhendis_sayisi = 10\n",
        "oda_sayisi = 8\n",
        "\n",
        "# Güvercin yuvası ilkesine göre genel çalışan hesaplama\n",
        "en_az_calisan = math.ceil(toplam_calisan / oda_sayisi)\n",
        "\n",
        "# Her odada en az bir mühendis olması durumu\n",
        "# En az bir mühendis olan odalar\n",
        "en_az_bir_muhendis_odalari = min(oda_sayisi, muhendis_sayisi)\n",
        "# Geri kalan çalışanlar\n",
        "geri_kalan_calisanlar = toplam_calisan - en_az_bir_muhendis_odalari\n",
        "\n",
        "# En az iki kişi olması gereken odalar\n",
        "en_az_iki_kisi = math.ceil(geri_kalan_calisanlar / en_az_bir_muhendis_odalari)\n",
        "\n",
        "print(f\"Herhangi bir odada en az {en_az_calisan} çalışan bulunmalıdır.\")\n",
        "print(f\"Her odada en az bir mühendis bulunduğunda, en az {en_az_iki_kisi} odada en az iki kişinin olması gerekmektedir.\")\n"
      ],
      "metadata": {
        "colab": {
          "base_uri": "https://localhost:8080/"
        },
        "id": "i8CuN2OMnzYo",
        "outputId": "b427e7e1-4929-416a-97bb-1e7d7a8df2fe"
      },
      "execution_count": 1,
      "outputs": [
        {
          "output_type": "stream",
          "name": "stdout",
          "text": [
            "Herhangi bir odada en az 4 çalışan bulunmalıdır.\n",
            "Her odada en az bir mühendis bulunduğunda, en az 3 odada en az iki kişinin olması gerekmektedir.\n"
          ]
        }
      ]
    }
  ]
}